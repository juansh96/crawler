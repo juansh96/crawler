{
 "cells": [
  {
   "cell_type": "code",
   "execution_count": 1,
   "metadata": {},
   "outputs": [
    {
     "name": "stderr",
     "output_type": "stream",
     "text": [
      "C:\\Users\\juans\\AppData\\Local\\Temp\\ipykernel_18140\\1021402647.py:28: FutureWarning: The frame.append method is deprecated and will be removed from pandas in a future version. Use pandas.concat instead.\n",
      "  excl_merged = excl_merged.append(\n"
     ]
    }
   ],
   "source": [
    "# importing the required modules\n",
    "import glob\n",
    "import os\n",
    "import pandas as pd\n",
    " \n",
    "# specifying the path to csv files\n",
    "input_path = os.path.join('Output_data','Ads')\n",
    " \n",
    "# xlsx files in the path\n",
    "file_list = glob.glob(input_path + \"/*.xlsx\")\n",
    " \n",
    "# list of excel files we want to merge.\n",
    "# pd.read_excel(file_path) reads the excel\n",
    "# data into pandas dataframe.\n",
    "excl_list = []\n",
    " \n",
    "for file in file_list:\n",
    "    excl_list.append(pd.read_excel(file))\n",
    " \n",
    "# create a new dataframe to store the\n",
    "# merged excel file.\n",
    "excl_merged = pd.DataFrame()\n",
    " \n",
    "for excl_file in excl_list:\n",
    "     \n",
    "    # appends the data into the excl_merged\n",
    "    # dataframe.\n",
    "    excl_merged = excl_merged.append(\n",
    "      excl_file, ignore_index=True)\n",
    " \n",
    "# exports the dataframe into excel file with\n",
    "# specified name.\n",
    "output_path = os.path.join('Output_data','Final_excel','total_ads.xlsx')\n",
    "excl_merged.to_excel(output_path, index=False)"
   ]
  }
 ],
 "metadata": {
  "kernelspec": {
   "display_name": "Python 3.9.13 ('Webscraping')",
   "language": "python",
   "name": "python3"
  },
  "language_info": {
   "codemirror_mode": {
    "name": "ipython",
    "version": 3
   },
   "file_extension": ".py",
   "mimetype": "text/x-python",
   "name": "python",
   "nbconvert_exporter": "python",
   "pygments_lexer": "ipython3",
   "version": "3.9.13"
  },
  "orig_nbformat": 4,
  "vscode": {
   "interpreter": {
    "hash": "20cdfce516b8bda6261e45110575f0c428a20107f5fc68f3ccb1fea61d32083b"
   }
  }
 },
 "nbformat": 4,
 "nbformat_minor": 2
}
