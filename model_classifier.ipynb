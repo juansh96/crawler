{
 "cells": [
  {
   "cell_type": "code",
   "execution_count": 1,
   "metadata": {},
   "outputs": [],
   "source": [
    "import pandas as pd\n",
    "import sklearn as sk\n",
    "import pickle\n",
    "import string"
   ]
  },
  {
   "cell_type": "code",
   "execution_count": 2,
   "metadata": {},
   "outputs": [],
   "source": [
    "#reemplzar las letras estilo 1 por i, @ por a\n",
    "\n",
    "import re\n",
    "\n",
    "def product_classifier(title):\n",
    "\n",
    "  title = str(title)\n",
    "  title = title.lower()\n",
    "  title = title.translate(str.maketrans('', '', string.punctuation))\n",
    "  ####################  Windows  #######################\n",
    "\n",
    "  if re.search('win|windows|ms', title):\n",
    "    \n",
    "    #Windows 11 ###################\n",
    "    if re.search('11', title):\n",
    "      if re.search('enter', title):\n",
    "        return 'Windows 11 Enterprise'\n",
    "      if re.search('professional | pro', title):\n",
    "        return 'Windows 11 Pro'\n",
    "      if re.search('hom', title):\n",
    "        return 'Windows 11 Home'\n",
    "  \n",
    "    ############################## \n",
    "    #Windows 10 ###################\n",
    "    if re.search('10', title):\n",
    "      if re.search('enter', title):\n",
    "        return 'Windows 10 Enterprise'\n",
    "      if re.search('professional|pro', title):\n",
    "        return 'Windows 10 Pro'\n",
    "      if re.search('hom', title):\n",
    "        return 'Windows 10 Home'\n",
    "      \n",
    "    ############################## \n",
    "    #Windows 8 ###################\n",
    "    if re.search('(?:^|\\W)81(?:$|\\W)', title):\n",
    "      return 'Windows 8.1 Pro'\n",
    "    ############################## \n",
    "    #Windows 8 ###################\n",
    "    if re.search('7', title):\n",
    "      if re.search('ulti', title):\n",
    "        return 'Windows 7 Ultimate'\n",
    "      if re.search('professional|pro', title):\n",
    "        return 'Windows 7 Professional'\n",
    "      if re.search('hom', title):\n",
    "        return 'Windows 7 Home Premium'\n",
    "      \n",
    "    ############################## \n",
    "    #Windows XP ###################\n",
    "    if re.search('xp', title):\n",
    "      return 'Windows XP Professional'\n",
    "\n",
    "\n",
    "  ####################  Microsoft  #######################\n",
    "\n",
    "  if re.search('365', title):\n",
    "\n",
    "    # Business ###################\n",
    "    if re.search('busines', title):\n",
    "        if re.search('prem', title):\n",
    "          return 'Microsoft 365 Business Premium'\n",
    "        if re.search('stand', title):\n",
    "          return 'Microsoft 365 Business Standard'\n",
    "        if re.search('app', title):\n",
    "          return 'Microsoft 365 Apps for Business'\n",
    "        \n",
    "    ############################\n",
    "    # Family ################### \n",
    "    if re.search('family', title):\n",
    "      return 'Microsoft 365 Family'\n",
    "    ############################\n",
    "    # Proplus ################### \n",
    "    if re.search('proplus', title):\n",
    "      return 'Office 365 ProPlus'\n",
    "    ############################ \n",
    "    # Personal #################\n",
    "    if re.search('perso', title):\n",
    "      return 'Microsoft 365 Personal'\n",
    "\n",
    "\n",
    "  ####################  Office  #######################\n",
    "\n",
    "  if re.search('office', title):\n",
    "    ############################\n",
    "    # Professional ################### \n",
    "    if re.search('professional|pro', title):   \n",
    "      if re.search('plus', title): \n",
    "        if re.search('21', title):\n",
    "          return 'Office Professional Plus 2021'\n",
    "        if re.search('19', title):\n",
    "          return 'Office Professional Plus 2019'\n",
    "        if re.search('16', title):\n",
    "          return 'Office Professional Plus 2016'\n",
    "        if re.search('13', title):\n",
    "            return 'Office Professional Plus 2013'\n",
    "      if re.search('21', title):\n",
    "          return 'Office Professional 2021'\n",
    "      if re.search('19', title):\n",
    "          return 'Office Professional 2019'\n",
    "    \n",
    "      \n",
    "    ############################\n",
    "    # Home ################### \n",
    "    elif re.search('home', title):\n",
    "      #business###########\n",
    "      if re.search('busin', title):\n",
    "        if re.search('21', title):\n",
    "          return 'Office Home and Business 2021'\n",
    "        if re.search('19', title):\n",
    "          return 'Office Home & Business 2019'\n",
    "        if re.search('16', title):\n",
    "          return 'Office Home & Business 2016'\n",
    "      ##Student######\n",
    "      if re.search('stud', title):\n",
    "        if re.search('21', title):\n",
    "          return 'Office Home and Student 2021'\n",
    "        if re.search('19', title):\n",
    "          return 'Office Home & Student 2019'\n",
    "        if re.search('16', title):\n",
    "          return 'Office Home & Student 2016'\n",
    "        if re.search('13', title):\n",
    "          return 'Office Home and Student 2013'\n",
    "    ############################\n",
    "    # Standard ################### \n",
    "    if re.search('standa', title):\n",
    "      if re.search('21', title):\n",
    "        return 'Office Standard 2021'\n",
    "      if re.search('19', title):\n",
    "        return 'Office Standard 2019'\n",
    "      if re.search('16', title):\n",
    "        return 'Office 2016 Standard'\n",
    "  #win|ms|microsoft|office|365|excel|word  \n",
    "  if not re.search('win|ms|microsoft|office|365|windows', title):\n",
    "    return 'not ms product'"
   ]
  },
  {
   "cell_type": "code",
   "execution_count": 4,
   "metadata": {},
   "outputs": [],
   "source": [
    "df = pd.read_excel('C:\\\\Users\\\\juans\\\\Desktop\\\\main_program\\\\Output_data\\\\Final_excel\\\\total_ads.xlsx')"
   ]
  },
  {
   "cell_type": "code",
   "execution_count": 14,
   "metadata": {},
   "outputs": [
    {
     "data": {
      "text/plain": [
       "\"\\n\\nmodel = pickle.load(open('C:\\\\Users\\\\juans\\\\Desktop\\\\actualizacion_tmon\\\\wemakeprice_scraping\\\\model\\\\model.pkl', 'rb'))\\nvectorizer = pickle.load(open('C:\\\\Users\\\\juans\\\\Desktop\\\\actualizacion_tmon\\\\wemakeprice_scraping\\\\model\\\\vectorizer.pkl', 'rb'))\\n\\n\""
      ]
     },
     "execution_count": 14,
     "metadata": {},
     "output_type": "execute_result"
    }
   ],
   "source": [
    "'''\n",
    "\n",
    "model = pickle.load(open('C:\\\\Users\\\\juans\\\\Desktop\\\\actualizacion_tmon\\\\wemakeprice_scraping\\\\model\\\\model.pkl', 'rb'))\n",
    "vectorizer = pickle.load(open('C:\\\\Users\\\\juans\\\\Desktop\\\\actualizacion_tmon\\\\wemakeprice_scraping\\\\model\\\\vectorizer.pkl', 'rb'))\n",
    "\n",
    "'''"
   ]
  },
  {
   "cell_type": "code",
   "execution_count": 15,
   "metadata": {},
   "outputs": [],
   "source": [
    "#df['vector'] = df['Title'].apply(lambda x: vectorizer.transform([x]))\n"
   ]
  },
  {
   "cell_type": "code",
   "execution_count": 16,
   "metadata": {},
   "outputs": [],
   "source": [
    "#df['Products'] = df['vector'].apply(model.predict)\n",
    "#df['Products'] = df['Products'].apply(lambda x: x[0])"
   ]
  },
  {
   "cell_type": "code",
   "execution_count": 17,
   "metadata": {},
   "outputs": [],
   "source": [
    "#df.drop(columns=['vector'], inplace=True)"
   ]
  },
  {
   "cell_type": "code",
   "execution_count": 5,
   "metadata": {},
   "outputs": [],
   "source": [
    "df['Products'] = df['Title'].apply(product_classifier)"
   ]
  },
  {
   "cell_type": "code",
   "execution_count": 6,
   "metadata": {},
   "outputs": [],
   "source": [
    "df.to_excel('total_ads_final.xlsx')"
   ]
  }
 ],
 "metadata": {
  "kernelspec": {
   "display_name": "Python 3.9.13 ('Webscraping')",
   "language": "python",
   "name": "python3"
  },
  "language_info": {
   "codemirror_mode": {
    "name": "ipython",
    "version": 3
   },
   "file_extension": ".py",
   "mimetype": "text/x-python",
   "name": "python",
   "nbconvert_exporter": "python",
   "pygments_lexer": "ipython3",
   "version": "3.9.13 (main, Aug 25 2022, 23:51:50) [MSC v.1916 64 bit (AMD64)]"
  },
  "orig_nbformat": 4,
  "vscode": {
   "interpreter": {
    "hash": "20cdfce516b8bda6261e45110575f0c428a20107f5fc68f3ccb1fea61d32083b"
   }
  }
 },
 "nbformat": 4,
 "nbformat_minor": 2
}
